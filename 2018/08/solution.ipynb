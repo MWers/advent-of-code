{
  "cells": [
    {
      "cell_type": "markdown",
      "source": [
        "# Advent of Code 2018 - Day 8"
      ],
      "metadata": {}
    },
    {
      "cell_type": "markdown",
      "source": [
        "## Input"
      ],
      "metadata": {}
    },
    {
      "cell_type": "code",
      "source": [
        "# data example:\n",
        "#\n",
        "# 2 3 0 3 10 11 12 1 1 0 1 99 2 1 1 2\n",
        "# A----------------------------------\n",
        "#     B----------- C-----------\n",
        "#                      D-----\n",
        "\n",
        "# input_file = 'input-sample.txt'\n",
        "input_file = 'input-full.txt'\n",
        "\n",
        "from collections import deque\n",
        "\n",
        "input = []\n",
        "with open(input_file, 'r') as f:\n",
        "    input = deque([int(i) for i in f.read().rstrip().split()])"
      ],
      "outputs": [],
      "execution_count": 1,
      "metadata": {
        "collapsed": false,
        "outputHidden": false,
        "inputHidden": false
      }
    },
    {
      "cell_type": "markdown",
      "source": [
        "## Part 1"
      ],
      "metadata": {}
    },
    {
      "cell_type": "code",
      "source": [
        "def build_tree(data):\n",
        "    num_children = data.popleft()\n",
        "    num_meta = data.popleft()\n",
        "    \n",
        "    nodes = []\n",
        "    for child_num in range(0, num_children):\n",
        "        node, data = build_tree(data)\n",
        "        nodes.append(node)\n",
        "\n",
        "    meta = []\n",
        "    for meta_num in range(0, num_meta):\n",
        "        meta.append(data.popleft())\n",
        "\n",
        "    node = {\n",
        "        'nodes': nodes,\n",
        "        'meta': meta\n",
        "    }\n",
        "\n    return node, data"
      ],
      "outputs": [],
      "execution_count": 2,
      "metadata": {
        "collapsed": false,
        "outputHidden": false,
        "inputHidden": false
      }
    },
    {
      "cell_type": "code",
      "source": [
        "def get_tree_metadata(node):\n",
        "    meta = []\n",
        "    for child_node in node['nodes']:\n",
        "        meta += get_tree_metadata(child_node)\n",
        "    meta += node['meta']\n",
        "    return meta"
      ],
      "outputs": [],
      "execution_count": 3,
      "metadata": {
        "collapsed": false,
        "outputHidden": false,
        "inputHidden": false
      }
    },
    {
      "cell_type": "code",
      "source": [
        "from copy import deepcopy\n",
        "\n",
        "data = deepcopy(input)\n",
        "all_meta = []\n",
        "tree, _ = build_tree(data)\n",
        "all_meta = get_tree_metadata(tree)\n",
        "print 'sum(all_meta): {}'.format(sum(all_meta))"
      ],
      "outputs": [
        {
          "output_type": "stream",
          "name": "stdout",
          "text": [
            "sum(all_meta): 44338\n"
          ]
        }
      ],
      "execution_count": 4,
      "metadata": {
        "collapsed": false,
        "outputHidden": false,
        "inputHidden": false
      }
    },
    {
      "cell_type": "markdown",
      "source": [
        "## Part 2"
      ],
      "metadata": {}
    },
    {
      "cell_type": "code",
      "source": [
        "def get_node_value(node):\n",
        "    # if no children, return sum of metadata\n",
        "    if not node['nodes']:\n",
        "        return sum(node['meta'])\n",
        "    \n",
        "    # otherwise, get values of children\n",
        "    # and return sum of children indexed by metadata\n",
        "    child_node_values = [get_node_value(child) for child in node['nodes']]\n",
        "\n",
        "    meta_sum = 0\n",
        "    for meta_idx in node['meta']:\n",
        "        try:\n",
        "            meta_sum += child_node_values[meta_idx - 1]\n",
        "        except IndexError:\n",
        "            continue\n",
        "\n    return meta_sum"
      ],
      "outputs": [],
      "execution_count": 5,
      "metadata": {
        "collapsed": false,
        "outputHidden": false,
        "inputHidden": false
      }
    },
    {
      "cell_type": "code",
      "source": [
        "from copy import deepcopy\n",
        "\n",
        "data = deepcopy(input)\n",
        "tree, _ = build_tree(data)\n",
        "print 'root node value: {}'.format(get_node_value(tree))"
      ],
      "outputs": [
        {
          "output_type": "stream",
          "name": "stdout",
          "text": [
            "root node value: 37560\n"
          ]
        }
      ],
      "execution_count": 6,
      "metadata": {
        "collapsed": false,
        "outputHidden": false,
        "inputHidden": false
      }
    }
  ],
  "metadata": {
    "kernel_info": {
      "name": "boto3"
    },
    "language_info": {
      "mimetype": "text/x-python",
      "nbconvert_exporter": "python",
      "name": "python",
      "pygments_lexer": "ipython2",
      "version": "2.7.10",
      "file_extension": ".py",
      "codemirror_mode": {
        "version": 2,
        "name": "ipython"
      }
    },
    "kernelspec": {
      "name": "boto3",
      "language": "python",
      "display_name": "boto3"
    },
    "nteract": {
      "version": "0.12.3"
    }
  },
  "nbformat": 4,
  "nbformat_minor": 4
}