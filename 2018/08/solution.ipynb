{
  "cells": [
    {
      "cell_type": "markdown",
      "source": [
        "# Advent of Code 2018 - Day 8"
      ],
      "metadata": {}
    },
    {
      "cell_type": "markdown",
      "source": [
        "## Input"
      ],
      "metadata": {}
    },
    {
      "cell_type": "code",
      "source": [
        "import re\n",
        "\n",
        "# input_file = 'input-sample.txt'\n",
        "input_file = 'input-full-sorted.txt'\n",
        "\n",
        "# data examples: \n",
        "# [1518-11-05 00:03] Guard #99 begins shift\n",
        "# [1518-11-05 00:45] falls asleep\n",
        "log_re = re.compile('\\[(?P<datestr>.*)\\] (?P<msg>.*)')\n",
        "msg_re = re.compile('Guard #(?P<id>\\d+) begins shift')\n",
        "date_re = re.compile('\\d{4}-\\d{2}-\\d{2} (?P<hour>\\d{2}):(?P<min>\\d{2})')\n",
        "\n",
        "input = []\n",
        "sleep_times = {}\n",
        "with open(input_file, 'r') as f:\n",
        "    raw_input = [i.rstrip() for i in f]\n",
        "\n",
        "    # Parse claims\n",
        "    for line in raw_input:\n",
        "        log_rs = log_re.match(line)\n",
        "        date_str = log_rs.group('datestr')\n",
        "        msg_str = log_rs.group('msg')\n",
        "        \n",
        "        date_rs = date_re.match(date_str)\n",
        "        hour = int(date_rs.group('hour'))\n",
        "        if hour == 23:\n",
        "            min = 0\n",
        "        else:\n",
        "            min = int(date_rs.group('min'))\n",
        "\n",
        "        if 'begins shift' in msg_str:\n",
        "            msg_rs = msg_re.match(msg_str)\n",
        "            id = msg_rs.group('id')\n",
        "        \n",
        "        if 'falls asleep' in msg_str:\n",
        "            sleep_start = min\n",
        "        \n",
        "        if 'wakes up' in msg_str:\n",
        "            sleep_end = min\n",
        "            \n",
        "            # track sleep times in dict\n",
        "            for sleep_min in range(sleep_start, sleep_end):\n",
        "                if id not in sleep_times:\n",
        "                    sleep_times[id] = {}\n",
        "                \n",
        "                sleep_times[id][sleep_min] = sleep_times[id].get(sleep_min, 0) + 1"
      ],
      "outputs": [],
      "execution_count": 1,
      "metadata": {
        "collapsed": false,
        "outputHidden": false,
        "inputHidden": false
      }
    },
    {
      "cell_type": "markdown",
      "source": [
        "## Part 1"
      ],
      "metadata": {}
    },
    {
      "cell_type": "code",
      "source": [
        "import operator\n",
        "max_total_time = 0\n",
        "max_id = 0\n",
        "max_min = 0\n",
        "max_time = 0\n",
        "for id in sleep_times.keys():\n",
        "    total_time = sum(sleep_times[id].values())\n",
        "    if total_time > max_total_time:\n",
        "        max_total_time = total_time\n",
        "        max_id = id\n",
        "        \n",
        "min = max(sleep_times[max_id].iteritems(), key=operator.itemgetter(1))[0]\n",
        "max_min = min\n",
        "max_time = sleep_times[id][min]\n",
        "\n",
        "print 'id: {}\\nmin: {}\\ntime: {}'.format(max_id, max_min, max_time)\n",
        "print 'answer: {}'.format(int(max_id) * max_min)"
      ],
      "outputs": [
        {
          "output_type": "stream",
          "name": "stdout",
          "text": [
            "id: 1487\n",
            "min: 34\n",
            "time: 5\n",
            "answer: 50558\n"
          ]
        }
      ],
      "execution_count": 2,
      "metadata": {
        "collapsed": false,
        "outputHidden": false,
        "inputHidden": false
      }
    },
    {
      "cell_type": "markdown",
      "source": [
        "## Part 2"
      ],
      "metadata": {}
    },
    {
      "cell_type": "code",
      "source": [
        "import operator\n",
        "max_id = 0\n",
        "max_min = 0\n",
        "max_time = 0\n",
        "for id in sleep_times.keys():\n",
        "    min = max(sleep_times[id].iteritems(), key=operator.itemgetter(1))[0]\n",
        "    if sleep_times[id][min] > max_time:\n",
        "        max_id = id\n",
        "        max_min = min\n",
        "        max_time = sleep_times[id][min]\n",
        "\n",
        "print 'id: {}\\nmin: {}\\ntime: {}'.format(max_id, max_min, max_time)\n",
        "print 'answer: {}'.format(int(max_id) * max_min)"
      ],
      "outputs": [
        {
          "output_type": "stream",
          "name": "stdout",
          "text": [
            "id: 613\n",
            "min: 46\n",
            "time: 20\n",
            "answer: 28198\n"
          ]
        }
      ],
      "execution_count": 3,
      "metadata": {
        "collapsed": false,
        "outputHidden": false,
        "inputHidden": false
      }
    }
  ],
  "metadata": {
    "kernel_info": {
      "name": "boto3"
    },
    "language_info": {
      "mimetype": "text/x-python",
      "nbconvert_exporter": "python",
      "name": "python",
      "pygments_lexer": "ipython2",
      "version": "2.7.10",
      "file_extension": ".py",
      "codemirror_mode": {
        "version": 2,
        "name": "ipython"
      }
    },
    "kernelspec": {
      "name": "boto3",
      "language": "python",
      "display_name": "boto3"
    },
    "nteract": {
      "version": "0.12.3"
    }
  },
  "nbformat": 4,
  "nbformat_minor": 4
}