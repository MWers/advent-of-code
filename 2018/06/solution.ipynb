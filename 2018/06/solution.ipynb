{
  "cells": [
    {
      "cell_type": "markdown",
      "source": [
        "# Advent of Code 2018 - Day 6"
      ],
      "metadata": {}
    },
    {
      "cell_type": "markdown",
      "source": [
        "## Input"
      ],
      "metadata": {}
    },
    {
      "cell_type": "code",
      "source": [
        "input_file = 'input-sample.txt'\n",
        "# input_file = 'input-full.txt'\n",
        "\n",
        "# data example:\n",
        "# [[1, 1], [1, 6], [8, 3], [3, 4], [5, 5], [8, 9]]\n",
        "input = []\n",
        "with open(input_file, 'r') as f:\n",
        "    for line in f:\n",
        "        coords = line.rstrip().replace(' ', '').split(',')\n",
        "        input.append([int(i) for i in coords])\n",
        "\nprint input"
      ],
      "outputs": [
        {
          "output_type": "stream",
          "name": "stdout",
          "text": [
            "[[1, 1], [1, 6], [8, 3], [3, 4], [5, 5], [8, 9]]\n"
          ]
        }
      ],
      "execution_count": 1,
      "metadata": {
        "collapsed": false,
        "outputHidden": false,
        "inputHidden": false
      }
    },
    {
      "cell_type": "markdown",
      "source": [
        "## Part 1"
      ],
      "metadata": {}
    },
    {
      "cell_type": "code",
      "source": [
        "# k-d tree (modified from https://en.wikipedia.org/wiki/K-d_tree)\n",
        "from collections import namedtuple\n",
        "from operator import itemgetter\n",
        "from pprint import pformat\n",
        "\n",
        "class Node(namedtuple('Node', 'location left_child right_child axis split_value')):\n",
        "    def __repr__(self):\n",
        "        return pformat(tuple(self))\n",
        "\n",
        "def kdtree(point_list, depth=0):\n",
        "    try:\n",
        "        k = len(point_list[0])\n",
        "    except IndexError as e:\n",
        "        return None\n",
        "\n",
        "    # Select axis based on depth so that axis cycles through all valid values\n",
        "    axis = depth % k\n",
        " \n",
        "    # Sort point list and choose median as pivot element\n",
        "    point_list.sort(key=itemgetter(axis))\n",
        "    median = len(point_list) // 2\n",
        " \n",
        "    # Create node and construct subtrees\n",
        "    return Node(\n",
        "        location=point_list[median],\n",
        "        left_child=kdtree(point_list[:median], depth + 1),\n",
        "        right_child=kdtree(point_list[median + 1:], depth + 1),\n",
        "        axis=axis,\n",
        "        split_value=point_list[median][axis]\n",
        "    )\n",
        "\n",
        "def get_taxicab_dist(p1, p2):\n",
        "    return abs(p2[0] - p1[0]) + abs(p2[1] - p1[1])\n",
        "\n",
        "def search_nn(point, node, ref_points):\n",
        "    \"\"\"\n",
        "    search nearest neighbor\n",
        "    http://andrewd.ces.clemson.edu/courses/cpsc805/references/nearest_search.pdf\n",
        "    \n",
        "    point - the point whose nearest neighbor we're finding\n",
        "    node - a tree node\n",
        "    ref_points - the current nearest neighbors [<x, y, dist>] \n",
        "    \"\"\"\n",
        "    if node['left_child'] is empty and node['right_child'] is empty:\n",
        "        dist = get_taxicab_dist(point, node['location'])\n",
        "\n",
        "        if ref_points is not empty:\n",
        "            # if dist is longer, return existing ref_points\n",
        "            if dist > ref_points[0]['dist']:\n",
        "                return ref_points\n",
        "\n",
        "            # if dist is shorter, replace ref_points\n",
        "            if dist < ref_points[0]['dist']:\n",
        "                ref_points = []\n",
        "            \n",
        "        new_ref_point = {\n",
        "            'x': node['location'][0],\n",
        "            'y': node['location'][1],\n",
        "            'dist': dist\n",
        "        }\n",
        "        ref_points.append(new_ref_point)\n",
        "        return ref_points\n",
        "\n",
        "    else:\n",
        "        pass\n",
        "        \n",
        "    return"
      ],
      "outputs": [],
      "execution_count": 2,
      "metadata": {
        "collapsed": false,
        "outputHidden": false,
        "inputHidden": false
      }
    },
    {
      "cell_type": "code",
      "source": [
        "tree = kdtree(input)\n",
        "print tree\n",
        "\n",
        "# find bounds of grid\n",
        "\n",
        "# iterate over grid\n",
        "\n",
        "# find nearest coord for each grid point\n",
        "\n",
        "# store in 2D array\n",
        "\n# count the frequency of nearest coords"
      ],
      "outputs": [
        {
          "output_type": "stream",
          "name": "stdout",
          "text": [
            "([5, 5],\n",
            " ([3, 4], ([1, 1], None, None, 0, 1), ([1, 6], None, None, 0, 1), 1, 4),\n",
            " ([8, 9], ([8, 3], None, None, 0, 8), None, 1, 9),\n",
            " 0,\n",
            " 5)\n"
          ]
        }
      ],
      "execution_count": 6,
      "metadata": {
        "collapsed": false,
        "outputHidden": false,
        "inputHidden": false
      }
    },
    {
      "cell_type": "code",
      "source": [],
      "outputs": [
        {
          "output_type": "stream",
          "name": "stdout",
          "text": [
            "polymer length: 9202\n"
          ]
        }
      ],
      "execution_count": 3,
      "metadata": {
        "collapsed": false,
        "outputHidden": false,
        "inputHidden": false
      }
    },
    {
      "cell_type": "markdown",
      "source": [
        "## Part 2"
      ],
      "metadata": {}
    },
    {
      "cell_type": "code",
      "source": [
        "min_polymer_len = len(input)\n",
        "\n",
        "# get all unique chars in input\n",
        "uniq_chars = ''.join(set(input.lower()))\n",
        "for char in uniq_chars:\n",
        "    # remove uppercase/lowercase char from polymer and reduce\n",
        "    stripped_polymer = input.translate(None, '{}{}'.format(char, char.upper()))\n",
        "    reduced_polymer = reduce_polymer('', stripped_polymer)\n",
        "    if len(reduced_polymer) < min_polymer_len:\n",
        "        min_polymer_len = len(reduced_polymer)\n",
        "\nprint 'min polymer len: {}'.format(min_polymer_len)"
      ],
      "outputs": [
        {
          "output_type": "stream",
          "name": "stdout",
          "text": [
            "min polymer len: 6394\n"
          ]
        }
      ],
      "execution_count": 4,
      "metadata": {
        "collapsed": false,
        "outputHidden": false,
        "inputHidden": false
      }
    }
  ],
  "metadata": {
    "kernel_info": {
      "name": "boto3"
    },
    "language_info": {
      "mimetype": "text/x-python",
      "nbconvert_exporter": "python",
      "name": "python",
      "pygments_lexer": "ipython2",
      "version": "2.7.10",
      "file_extension": ".py",
      "codemirror_mode": {
        "version": 2,
        "name": "ipython"
      }
    },
    "kernelspec": {
      "name": "boto3",
      "language": "python",
      "display_name": "boto3"
    },
    "nteract": {
      "version": "0.12.3"
    }
  },
  "nbformat": 4,
  "nbformat_minor": 4
}