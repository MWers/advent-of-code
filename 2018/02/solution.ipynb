{
  "cells": [
    {
      "cell_type": "markdown",
      "source": [
        "# Advent of Code 2018 - Day 2"
      ],
      "metadata": {}
    },
    {
      "cell_type": "markdown",
      "source": [
        "## Input"
      ],
      "metadata": {}
    },
    {
      "cell_type": "code",
      "source": [
        "input = []\n",
        "with open('input.txt', 'r') as f:\n",
        "    input = [i.rstrip() for i in f]"
      ],
      "outputs": [],
      "execution_count": 5,
      "metadata": {
        "collapsed": false,
        "outputHidden": false,
        "inputHidden": false
      }
    },
    {
      "cell_type": "markdown",
      "source": [
        "## Part 1"
      ],
      "metadata": {}
    },
    {
      "cell_type": "code",
      "source": [
        "has_letter_2x = 0\n",
        "has_letter_3x = 0\n",
        "\n",
        "for id in input:\n",
        "    letters = {}\n",
        "    for letter in id:\n",
        "        letters[letter] = letters.get(letter, 0) + 1\n",
        "    \n",
        "    letter_frequency = letters.values()\n",
        "    if 2 in letter_frequency:\n",
        "        has_letter_2x += 1\n",
        "    if 3 in letter_frequency:\n",
        "        has_letter_3x += 1\n",
        "        \n",
        "print \"has letter 2x: {}\".format(has_letter_2x)\n",
        "print \"has letter 3x: {}\".format(has_letter_3x)\n",
        "print \"checksum: {}\".format(has_letter_2x * has_letter_3x)"
      ],
      "outputs": [
        {
          "output_type": "stream",
          "name": "stdout",
          "text": [
            "has letter 2x: 246\n",
            "has letter 3x: 33\n",
            "checksum: 8118\n"
          ]
        }
      ],
      "execution_count": 15,
      "metadata": {
        "collapsed": false,
        "outputHidden": false,
        "inputHidden": false
      }
    },
    {
      "cell_type": "markdown",
      "source": [
        "## Part 2"
      ],
      "metadata": {}
    },
    {
      "cell_type": "code",
      "source": [
        "# brute force approach:\n",
        "# - iterate over all ids\n",
        "# - store all permutations missing one char in a set\n",
        "# - when storing, check to see if it already exists\n",
        "# - if so, it's the match\n",
        "permutations_by_pos = {}\n",
        "for id in input:\n",
        "    id_length = len(id)\n",
        "\n",
        "    for pos in range(0, id_length):\n",
        "        # store sets of permutation by position, since\n",
        "        # the differing letter must be in the same position\n",
        "        if pos not in permutations_by_pos:\n",
        "            permutations_by_pos[pos] = set()\n",
        "\n",
        "        permutation = id[:pos] + id[pos + 1:]\n",
        "\n",
        "        if permutation in permutations_by_pos[pos]:\n",
        "            print \"match: {}\".format(permutation)\n",
        "            break\n",
        "        else:\n",
        "            permutations_by_pos[pos].add(permutation)\n"
      ],
      "outputs": [
        {
          "output_type": "stream",
          "name": "stdout",
          "text": [
            "match: jbbenqtlaxhivmwyscjukztdp\n"
          ]
        }
      ],
      "execution_count": 48,
      "metadata": {
        "collapsed": false,
        "outputHidden": false,
        "inputHidden": false
      }
    }
  ],
  "metadata": {
    "kernel_info": {
      "name": "boto3"
    },
    "language_info": {
      "mimetype": "text/x-python",
      "nbconvert_exporter": "python",
      "name": "python",
      "pygments_lexer": "ipython2",
      "version": "2.7.10",
      "file_extension": ".py",
      "codemirror_mode": {
        "version": 2,
        "name": "ipython"
      }
    },
    "kernelspec": {
      "name": "boto3",
      "language": "python",
      "display_name": "boto3"
    },
    "nteract": {
      "version": "0.12.3"
    }
  },
  "nbformat": 4,
  "nbformat_minor": 4
}