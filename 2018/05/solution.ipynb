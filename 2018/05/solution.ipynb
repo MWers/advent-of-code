{
  "cells": [
    {
      "cell_type": "markdown",
      "source": [
        "# Advent of Code 2018 - Day 4"
      ],
      "metadata": {}
    },
    {
      "cell_type": "markdown",
      "source": [
        "## Input"
      ],
      "metadata": {}
    },
    {
      "cell_type": "code",
      "source": [
        "# input_file = 'input-sample.txt'\n",
        "input_file = 'input-full.txt'\n",
        "\n",
        "# data examples: dabAcCaCBAcCcaDA\n",
        "input = ''\n",
        "with open(input_file, 'r') as f:\n",
        "    input = f.read().rstrip()\n",
        "\n",
        "# Python limits recursion to 1000 recursive calls by default\n",
        "import sys\n",
        "if len(input) > 1000:\n",
        "    sys.setrecursionlimit(len(input))"
      ],
      "outputs": [],
      "execution_count": 1,
      "metadata": {
        "collapsed": false,
        "outputHidden": false,
        "inputHidden": false
      }
    },
    {
      "cell_type": "markdown",
      "source": [
        "## Part 1"
      ],
      "metadata": {}
    },
    {
      "cell_type": "code",
      "source": [
        "def reduce_polymer(prefix, polymer):\n",
        "    new_polymer = prefix\n",
        "    prev_char = ''\n",
        "\n",
        "    for i, curr_char in enumerate(polymer):\n",
        "        if prev_char != curr_char.swapcase():\n",
        "            new_polymer += prev_char\n",
        "            prev_char = curr_char\n",
        "        else:\n",
        "            # merge polymer chunks without prev_char + curr_char\n",
        "            new_polymer += polymer[i+1:]\n",
        "\n",
        "            # call function recursively\n",
        "            # split two chars back to account for new \"reactions\"\n",
        "            split = len(prefix) + i - 2\n",
        "            if split < 0:\n",
        "                split = 0\n",
        "            return reduce_polymer(new_polymer[:split],\n",
        "                                  new_polymer[split:])\n",
        "\n",
        "    new_polymer += prev_char\n",
        "    return new_polymer"
      ],
      "outputs": [],
      "execution_count": 2,
      "metadata": {
        "collapsed": false,
        "outputHidden": false,
        "inputHidden": false
      }
    },
    {
      "cell_type": "code",
      "source": [
        "reduced_polymer = reduce_polymer('', input)\n",
        "print 'polymer length: {}'.format(len(reduced_polymer))"
      ],
      "outputs": [
        {
          "output_type": "stream",
          "name": "stdout",
          "text": [
            "polymer length: 9202\n"
          ]
        }
      ],
      "execution_count": 3,
      "metadata": {
        "collapsed": false,
        "outputHidden": false,
        "inputHidden": false
      }
    },
    {
      "cell_type": "markdown",
      "source": [
        "## Part 2"
      ],
      "metadata": {}
    },
    {
      "cell_type": "code",
      "source": [
        "min_polymer_len = len(input)\n",
        "\n",
        "# get all unique chars in input\n",
        "uniq_chars = ''.join(set(input.lower()))\n",
        "for char in uniq_chars:\n",
        "    # remove uppercase/lowercase char from polymer and reduce\n",
        "    stripped_polymer = input.translate(None, '{}{}'.format(char, char.upper()))\n",
        "    reduced_polymer = reduce_polymer('', stripped_polymer)\n",
        "    if len(reduced_polymer) < min_polymer_len:\n",
        "        min_polymer_len = len(reduced_polymer)\n",
        "\nprint 'min polymer len: {}'.format(min_polymer_len)"
      ],
      "outputs": [
        {
          "output_type": "stream",
          "name": "stdout",
          "text": [
            "min polymer len: 6394\n"
          ]
        }
      ],
      "execution_count": 4,
      "metadata": {
        "collapsed": false,
        "outputHidden": false,
        "inputHidden": false
      }
    }
  ],
  "metadata": {
    "kernel_info": {
      "name": "boto3"
    },
    "language_info": {
      "mimetype": "text/x-python",
      "nbconvert_exporter": "python",
      "name": "python",
      "pygments_lexer": "ipython2",
      "version": "2.7.10",
      "file_extension": ".py",
      "codemirror_mode": {
        "version": 2,
        "name": "ipython"
      }
    },
    "kernelspec": {
      "name": "boto3",
      "language": "python",
      "display_name": "boto3"
    },
    "nteract": {
      "version": "0.12.3"
    }
  },
  "nbformat": 4,
  "nbformat_minor": 4
}