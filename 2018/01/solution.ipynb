{
  "cells": [
    {
      "cell_type": "markdown",
      "source": [
        "# Advent of Code 2018\n",
        "\n## Day 1 - Part 1"
      ],
      "metadata": {}
    },
    {
      "cell_type": "code",
      "source": [
        "freq = 0\n",
        "with open('input.txt', 'r') as f:\n",
        "    for change in [int(i) for i in f]:\n",
        "        freq = freq + change\n",
        "        \n",
        "print freq"
      ],
      "outputs": [
        {
          "output_type": "stream",
          "name": "stdout",
          "text": [
            "425\n"
          ]
        }
      ],
      "execution_count": 1,
      "metadata": {
        "collapsed": false,
        "outputHidden": false,
        "inputHidden": false
      }
    },
    {
      "cell_type": "markdown",
      "source": [
        "## Day 2 - Part 2"
      ],
      "metadata": {}
    },
    {
      "cell_type": "code",
      "source": [
        "with open('input.txt', 'r') as f:\n",
        "    freq_list = [int(i) for i in f]\n",
        "\n",
        "freq = 0\n",
        "freqs = set()\n",
        "\n",
        "while True:\n",
        "    for change in freq_list:\n",
        "        freq = freq + change\n",
        "        if freq in freqs:\n",
        "            freq_reached_twice = freq\n",
        "            break\n",
        "        else:\n",
        "            freqs.add(freq)\n",
        "    else:\n",
        "        continue\n",
        "    break\n",
        "\nprint freq_reached_twice"
      ],
      "outputs": [
        {
          "output_type": "stream",
          "name": "stdout",
          "text": [
            "57538\n"
          ]
        }
      ],
      "execution_count": 2,
      "metadata": {
        "collapsed": false,
        "outputHidden": false,
        "inputHidden": false
      }
    }
  ],
  "metadata": {
    "kernel_info": {
      "name": "boto3"
    },
    "language_info": {
      "mimetype": "text/x-python",
      "nbconvert_exporter": "python",
      "name": "python",
      "pygments_lexer": "ipython2",
      "version": "2.7.10",
      "file_extension": ".py",
      "codemirror_mode": {
        "version": 2,
        "name": "ipython"
      }
    },
    "kernelspec": {
      "name": "boto3",
      "language": "python",
      "display_name": "boto3"
    },
    "nteract": {
      "version": "0.12.3"
    }
  },
  "nbformat": 4,
  "nbformat_minor": 4
}