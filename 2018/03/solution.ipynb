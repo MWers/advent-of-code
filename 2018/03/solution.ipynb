{
  "cells": [
    {
      "cell_type": "markdown",
      "source": [
        "# Advent of Code 2018 - Day 3"
      ],
      "metadata": {}
    },
    {
      "cell_type": "markdown",
      "source": [
        "## Input"
      ],
      "metadata": {}
    },
    {
      "cell_type": "code",
      "source": [
        "import re\n",
        "\n",
        "# data example: '#42 @ 649,33: 14x10'\n",
        "claim_re = re.compile('#(?P<id>\\d+) @ (?P<x>\\d+),(?P<y>\\d+): (?P<w>\\d+)x(?P<h>\\d+)')\n",
        "\n",
        "input = []\n",
        "with open('input-full.txt', 'r') as f:\n",
        "    raw_input = [i.rstrip() for i in f]\n",
        "\n",
        "    # Parse claims\n",
        "    for line in raw_input:\n",
        "        claim = {}\n",
        "        rs = claim_re.match(line)\n",
        "        claim['id'] = rs.group('id')\n",
        "        claim['x'] = int(rs.group('x'))\n",
        "        claim['y'] = int(rs.group('y'))\n",
        "        claim['w'] = int(rs.group('w'))\n",
        "        claim['h'] = int(rs.group('h'))\n",
        "\n        input.append(claim)"
      ],
      "outputs": [],
      "execution_count": 1,
      "metadata": {
        "collapsed": false,
        "outputHidden": false,
        "inputHidden": false
      }
    },
    {
      "cell_type": "markdown",
      "source": [
        "## Part 1"
      ],
      "metadata": {}
    },
    {
      "cell_type": "code",
      "source": [
        "intersect = {}\n",
        "for i, r1 in enumerate(input):\n",
        "    for r2 in input[i+1:]:\n",
        "        # get the coordinates of the intersection\n",
        "        x1 = max(r1['x'], r2['x'])\n",
        "        x2 = min(r1['x'] + r1['w'], r2['x'] + r2['w'])\n",
        "        y1 = max(r1['y'], r2['y'])\n",
        "        y2 = min(r1['y'] + r1['h'], r2['y'] + r2['h'])\n",
        "        \n",
        "        if x1 < x2 and y1 < y2:\n",
        "            # loop over each position and set a hash value\n",
        "            for x in range(x1, x2):\n",
        "                for y in range(y1, y2):\n",
        "                    intersect['{}x{}'.format(x, y)] = 1\n",
        "\nprint sum(intersect.values())"
      ],
      "outputs": [
        {
          "output_type": "stream",
          "name": "stdout",
          "text": [
            "100261\n"
          ]
        }
      ],
      "execution_count": 2,
      "metadata": {
        "collapsed": false,
        "outputHidden": false,
        "inputHidden": false
      }
    },
    {
      "cell_type": "markdown",
      "source": [
        "## Part 2"
      ],
      "metadata": {}
    },
    {
      "cell_type": "code",
      "source": [
        "intersect = {}\n",
        "for i, r1 in enumerate(input):\n",
        "    did_intersect = False\n",
        "    for r2 in input:\n",
        "        if r1['id'] != r2['id']:\n",
        "            # get the coordinates of the intersection\n",
        "            x1 = max(r1['x'], r2['x'])\n",
        "            x2 = min(r1['x'] + r1['w'], r2['x'] + r2['w'])\n",
        "            y1 = max(r1['y'], r2['y'])\n",
        "            y2 = min(r1['y'] + r1['h'], r2['y'] + r2['h'])\n",
        "\n",
        "            if x1 < x2 and y1 < y2:\n",
        "                did_intersect = True\n",
        "                break\n",
        "\n",
        "    if not did_intersect:\n",
        "        print r1['id']"
      ],
      "outputs": [
        {
          "output_type": "stream",
          "name": "stdout",
          "text": [
            "251\n"
          ]
        }
      ],
      "execution_count": 3,
      "metadata": {
        "collapsed": false,
        "outputHidden": false,
        "inputHidden": false
      }
    }
  ],
  "metadata": {
    "kernel_info": {
      "name": "boto3"
    },
    "language_info": {
      "mimetype": "text/x-python",
      "nbconvert_exporter": "python",
      "name": "python",
      "pygments_lexer": "ipython2",
      "version": "2.7.10",
      "file_extension": ".py",
      "codemirror_mode": {
        "version": 2,
        "name": "ipython"
      }
    },
    "kernelspec": {
      "name": "boto3",
      "language": "python",
      "display_name": "boto3"
    },
    "nteract": {
      "version": "0.12.3"
    }
  },
  "nbformat": 4,
  "nbformat_minor": 4
}