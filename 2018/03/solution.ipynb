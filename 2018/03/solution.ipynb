{
  "cells": [
    {
      "cell_type": "markdown",
      "source": [
        "# Advent of Code 2018 - Day 3"
      ],
      "metadata": {}
    },
    {
      "cell_type": "markdown",
      "source": [
        "## Input"
      ],
      "metadata": {}
    },
    {
      "cell_type": "code",
      "source": [
        "import re\n",
        "\n",
        "# data example: '#42 @ 649,33: 14x10'\n",
        "claim_re = re.compile('#(?P<id>\\d+) @ (?P<x>\\d+),(?P<y>\\d+): (?P<w>\\d+)x(?P<h>\\d+)')\n",
        "\n",
        "input = []\n",
        "with open('input.txt', 'r') as f:\n",
        "    raw_input = [i.rstrip() for i in f]\n",
        "\n",
        "    # Parse claims\n",
        "    for line in raw_input:\n",
        "        claim = {}\n",
        "        rs = claim_re.match(line)\n",
        "        claim['id'] = rs.group('id')\n",
        "        claim['x'] = int(rs.group('x'))\n",
        "        claim['y'] = int(rs.group('y'))\n",
        "        claim['w'] = int(rs.group('w'))\n",
        "        claim['h'] = int(rs.group('h'))\n",
        "\n        input.append(claim)"
      ],
      "outputs": [],
      "execution_count": 13,
      "metadata": {
        "collapsed": false,
        "outputHidden": false,
        "inputHidden": false
      }
    },
    {
      "cell_type": "markdown",
      "source": [
        "## Part 1"
      ],
      "metadata": {}
    },
    {
      "cell_type": "code",
      "source": [
        "# TODO"
      ],
      "outputs": [],
      "execution_count": 1,
      "metadata": {
        "collapsed": false,
        "outputHidden": false,
        "inputHidden": false
      }
    },
    {
      "cell_type": "markdown",
      "source": [
        "## Part 2"
      ],
      "metadata": {}
    },
    {
      "cell_type": "code",
      "source": [
        "# TODO"
      ],
      "outputs": [],
      "execution_count": 2,
      "metadata": {
        "collapsed": false,
        "outputHidden": false,
        "inputHidden": false
      }
    }
  ],
  "metadata": {
    "kernel_info": {
      "name": "boto3"
    },
    "language_info": {
      "mimetype": "text/x-python",
      "nbconvert_exporter": "python",
      "name": "python",
      "pygments_lexer": "ipython2",
      "version": "2.7.10",
      "file_extension": ".py",
      "codemirror_mode": {
        "version": 2,
        "name": "ipython"
      }
    },
    "kernelspec": {
      "name": "boto3",
      "language": "python",
      "display_name": "boto3"
    },
    "nteract": {
      "version": "0.12.3"
    }
  },
  "nbformat": 4,
  "nbformat_minor": 4
}