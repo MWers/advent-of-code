{
  "cells": [
    {
      "cell_type": "markdown",
      "source": [
        "# Advent of Code 2018 - Day 9"
      ],
      "metadata": {}
    },
    {
      "cell_type": "markdown",
      "source": [
        "## Input"
      ],
      "metadata": {}
    },
    {
      "cell_type": "code",
      "source": [
        "# data - part 1 - 410 players; last marble is worth 72059 points\n",
        "# player_count, final_marble_value, high_score, winner_id = 410, 72059, 0, 370\n",
        "\n",
        "# data - part 2 - 410 players; last marble is worth 7205900 points\n",
        "# brute force approach (let it run for hours)\n",
        "player_count, final_marble_value, high_score, winner_id = 410, 7205900, 0, 370\n",
        "\n",
        "#\n",
        "# data examples:\n",
        "#\n",
        "# player_count, final_marble_value, high_score, winner_id = 9, 25, 32, 5\n",
        "# player_count, final_marble_value, high_score, winner_id = 10, 1618, 8317, 10\n",
        "# player_count, final_marble_value, high_score, winner_id = 13, 7999, 146373, 12\n",
        "# player_count, final_marble_value, high_score, winner_id = 17, 1104, 2764, 16\n",
        "# player_count, final_marble_value, high_score, winner_id = 21, 6111, 54718, 5\n",
        "# player_count, final_marble_value, high_score, winner_id = 30, 5807, 37305, 20"
      ],
      "outputs": [],
      "execution_count": 58,
      "metadata": {
        "collapsed": false,
        "outputHidden": false,
        "inputHidden": false
      }
    },
    {
      "cell_type": "markdown",
      "source": [
        "## Part 1"
      ],
      "metadata": {}
    },
    {
      "cell_type": "code",
      "source": [
        "marble_list = [0]\n",
        "curr_marble_idx = 0\n",
        "player_scores = {}\n",
        "\n",
        "for curr_marble_val in range(1, final_marble_val + 1):\n",
        "    # adjust for marble value 0 belonging to no player\n",
        "    # (this could be cleaner)\n",
        "    player_nbr = ((curr_marble_val - 1) % player_count) + 1\n",
        "\n",
        "    if curr_marble_val == 1:\n",
        "        marble_list.append(1)\n",
        "        curr_marble_idx = 1\n",
        "\n",
        "    elif curr_marble_val % 23 == 0:\n",
        "        marble_to_remove_idx = (curr_marble_idx - 7) % len(marble_list)\n",
        "        marble_to_remove_val = marble_list.pop(marble_to_remove_idx)\n",
        "        curr_marble_idx = marble_to_remove_idx\n",
        "\n",
        "        player_scores[player_nbr] = (player_scores.get(player_nbr, 0)\n",
        "                                     + curr_marble_val\n",
        "                                     + marble_to_remove_val)\n",
        "\n",
        "    else:\n",
        "        # next pos calc is a little weird to append when pos = list len\n",
        "        next_marble_idx = ((curr_marble_idx + 1) % len(marble_list)) + 1\n",
        "        marble_list.insert(next_marble_idx, curr_marble_val)\n",
        "        curr_marble_idx = next_marble_idx\n",
        "\n\n",
        "def print_high_score(player_scores):\n",
        "    player_id = max(player_scores, key=player_scores.get)\n",
        "    print '{}: {}'.format(player_id, player_scores[player_id])\n",
        "\nprint_high_score(player_scores)"
      ],
      "outputs": [
        {
          "output_type": "stream",
          "name": "stdout",
          "text": [
            "215: 3624387659\n"
          ]
        }
      ],
      "execution_count": 59,
      "metadata": {
        "collapsed": false,
        "outputHidden": false,
        "inputHidden": false
      }
    }
  ],
  "metadata": {
    "kernel_info": {
      "name": "boto3"
    },
    "language_info": {
      "mimetype": "text/x-python",
      "nbconvert_exporter": "python",
      "name": "python",
      "pygments_lexer": "ipython2",
      "version": "2.7.10",
      "file_extension": ".py",
      "codemirror_mode": {
        "version": 2,
        "name": "ipython"
      }
    },
    "kernelspec": {
      "name": "boto3",
      "language": "python",
      "display_name": "boto3"
    },
    "nteract": {
      "version": "0.12.3"
    }
  },
  "nbformat": 4,
  "nbformat_minor": 4
}