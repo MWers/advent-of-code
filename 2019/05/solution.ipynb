{
  "cells": [
    {
      "cell_type": "markdown",
      "source": [
        "# Advent of Code 2019 - Day 5\n",
        "\n",
        "## Part 1"
      ],
      "metadata": {}
    },
    {
      "cell_type": "code",
      "source": [
        "from enum import IntEnum\n",
        "\n",
        "class Opcode(IntEnum):\n",
        "    ADD = 1\n",
        "    MULTIPLY = 2\n",
        "    STORE = 3\n",
        "    OUTPUT = 4\n",
        "    EXIT = 99\n",
        "\n",
        "class Mode(IntEnum):\n",
        "    POSITION = 0\n",
        "    IMMEDIATE = 1"
      ],
      "outputs": [],
      "execution_count": 19,
      "metadata": {
        "collapsed": false,
        "outputHidden": false,
        "inputHidden": false
      }
    },
    {
      "cell_type": "code",
      "source": [
        "from copy import deepcopy\n",
        "\n",
        "inputs = [1]\n",
        "\n",
        "def process_program(program, inputs=inputs):\n",
        "    user_inputs = deepcopy(inputs)\n",
        "    \n",
        "    for idx in range(0, len(program), 4):\n",
        "        if Opcode(program[idx]) is Opcode.ADD:\n",
        "            (idx_1, idx_2, idx_3) = program[idx + 1:idx + 4]\n",
        "            program[idx_3] = program[idx_1] + program[idx_2]\n",
        "\n",
        "        elif Opcode(program[idx]) is Opcode.MULTIPLY:\n",
        "            (idx_1, idx_2, idx_3) = program[idx + 1:idx + 4]\n",
        "            program[idx_3] = program[idx_1] * program[idx_2]\n",
        "\n",
        "        elif Opcode(program[idx]) is Opcode.STORE:\n",
        "            idx_1 = program[idx + 1:idx + 2]\n",
        "            # get input\n",
        "            user_inputs.pop(0)\n",
        "            # program[idx_3] = program[idx_1] * program[idx_2]\n",
        "        \n",
        "        elif Opcode(program[idx]) is Opcode.OUTPUT:\n",
        "            idx_1 = program[idx + 1:idx + 2]\n",
        "            # get input\n",
        "            # program[idx_3] = program[idx_1] * program[idx_2]\n",
        "        \n",
        "        elif Opcode(program[idx]) == Opcode.EXIT:\n",
        "            # end program\n",
        "            return program\n",
        "\n",
        "\n",
        "def str_to_list(string):\n",
        "    return [int(i) for i in string.split(',')]\n",
        "\n",
        "\n",
        "def parse_input_line(line):\n",
        "    return [process_program(segment) for segment in str_to_list(line)]\n",
        "\n",
        "\n",
        "def parse_input_file(filename):\n",
        "    with open(filename, 'r') as f:\n",
        "        return [parse_input_line(line) for line in f]\n",
        "\n",
        "\n",
        "def parse_instruction(instruction):\n",
        "    pass\n",
        "    \n",
        "# puzzle_input = parse_input_file('input.txt')\n",
        "\n",
        "# print(process_program(str_to_list('1002,4,3,4,33')))\n",
        "print(process_program(str_to_list('3,0,4,0,99')))"
      ],
      "outputs": [
        {
          "output_type": "stream",
          "name": "stdout",
          "text": [
            "[3, 0, 4, 0, 99]\n"
          ]
        }
      ],
      "execution_count": 22,
      "metadata": {
        "collapsed": false,
        "outputHidden": false,
        "inputHidden": false
      }
    },
    {
      "cell_type": "code",
      "source": [
        "points = []\n",
        "points.append(get_points(puzzle_input[0]))\n",
        "points.append(get_points(puzzle_input[1]))\n",
        "\n",
        "intersections = set(points[0]).intersection(set(points[1]))"
      ],
      "outputs": [],
      "execution_count": 2,
      "metadata": {
        "collapsed": false,
        "outputHidden": false,
        "inputHidden": false
      }
    },
    {
      "cell_type": "code",
      "source": [
        "distances = [(abs(i[0]) + abs(i[1])) for i in intersections]\n",
        "distances.sort()\n",
        "print(f'solution: {distances[1]}')"
      ],
      "outputs": [
        {
          "output_type": "stream",
          "name": "stdout",
          "text": [
            "solution: 1084\n"
          ]
        }
      ],
      "execution_count": 3,
      "metadata": {
        "collapsed": false,
        "outputHidden": false,
        "inputHidden": false
      }
    },
    {
      "cell_type": "markdown",
      "source": [
        "## Part 2"
      ],
      "metadata": {}
    },
    {
      "cell_type": "code",
      "source": [
        "distances = {}\n",
        "for intersection in intersections:\n",
        "    dist = points[0].index(intersection) + points[1].index(intersection)\n",
        "    distances[dist] = intersection\n",
        "\n",
        "nearest = sorted(distances.keys())[1]\n",
        "print(f'solution: {nearest}')"
      ],
      "outputs": [
        {
          "output_type": "stream",
          "name": "stdout",
          "text": [
            "solution: 9240\n"
          ]
        }
      ],
      "execution_count": 4,
      "metadata": {
        "collapsed": false,
        "outputHidden": false,
        "inputHidden": false
      }
    }
  ],
  "metadata": {
    "kernel_info": {
      "name": "advent-of-code"
    },
    "language_info": {
      "name": "python",
      "version": "3.8.0",
      "mimetype": "text/x-python",
      "codemirror_mode": {
        "name": "ipython",
        "version": 3
      },
      "pygments_lexer": "ipython3",
      "nbconvert_exporter": "python",
      "file_extension": ".py"
    },
    "kernelspec": {
      "name": "advent-of-code",
      "language": "python",
      "display_name": "advent-of-code"
    },
    "nteract": {
      "version": "0.15.0"
    }
  },
  "nbformat": 4,
  "nbformat_minor": 4
}