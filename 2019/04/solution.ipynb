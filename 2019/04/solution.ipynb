{
  "cells": [
    {
      "cell_type": "markdown",
      "source": [
        "# Advent of Code 2019 - Day 4\n",
        "\n",
        "## Part 1"
      ],
      "metadata": {}
    },
    {
      "cell_type": "code",
      "source": [
        "# Input\n",
        "min = 146810\n",
        "max = 612564"
      ],
      "outputs": [],
      "execution_count": 1,
      "metadata": {
        "collapsed": false,
        "outputHidden": false,
        "inputHidden": false
      }
    },
    {
      "cell_type": "code",
      "source": [
        "# Brute force solution :-(\n",
        "matches = []\n",
        "for pwd in [str(i) for i in range(min, max + 1)]:\n",
        "    has_adjacent = False\n",
        "    has_increasing = True\n",
        "    start_idx = 1\n",
        "    end_idx = len(pwd) - 2\n",
        "    for idx in range(start_idx, end_idx):\n",
        "        is_start = True if idx == start_idx else False\n",
        "        is_end = True if idx == end_idx else False\n",
        "        \n",
        "        prev_digit = int(pwd[idx-1])\n",
        "        curr_digit = int(pwd[idx])\n",
        "        next_digit = int(pwd[idx+1])\n",
        "        next_next_digit = int(pwd[idx+2])\n",
        "        \n",
        "        if (prev_digit > curr_digit\n",
        "            or curr_digit > next_digit\n",
        "            or next_digit > next_next_digit):\n",
        "            has_increasing = False\n",
        "\n",
        "        if (prev_digit == curr_digit\n",
        "            or curr_digit == next_digit\n",
        "            or next_digit == next_next_digit):\n",
        "            has_adjacent = True\n",
        "\n",
        "    if has_adjacent and has_increasing:\n",
        "        matches.append(pwd)\n",
        "\n",
        "print(f'Solution: {len(matches)}')"
      ],
      "outputs": [
        {
          "output_type": "stream",
          "name": "stdout",
          "text": [
            "Solution: 1748\n"
          ]
        }
      ],
      "execution_count": 2,
      "metadata": {
        "collapsed": false,
        "outputHidden": false,
        "inputHidden": false
      }
    },
    {
      "cell_type": "markdown",
      "source": [
        "## Part 2"
      ],
      "metadata": {}
    },
    {
      "cell_type": "code",
      "source": [
        "# Brute force solution :-(\n",
        "def is_valid_password(password):\n",
        "    has_adjacent = False\n",
        "    has_increasing = True\n",
        "    start_idx = 1\n",
        "    end_idx = len(password) - 2\n",
        "    for idx in range(start_idx, end_idx):\n",
        "        is_start = True if idx == start_idx else False\n",
        "        is_end = True if idx == (end_idx - 1) else False\n",
        "        \n",
        "        prev_digit = int(password[idx-1])\n",
        "        curr_digit = int(password[idx])\n",
        "        next_digit = int(password[idx+1])\n",
        "        next_next_digit = int(password[idx+2])\n",
        "        \n",
        "        if (prev_digit > curr_digit\n",
        "            or curr_digit > next_digit\n",
        "            or next_digit > next_next_digit):\n",
        "            has_increasing = False\n",
        "\n",
        "        if (is_start and (\n",
        "                prev_digit == curr_digit\n",
        "                and curr_digit != next_digit\n",
        "            )):\n",
        "            has_adjacent = True\n",
        "\n",
        "        if (is_end and (\n",
        "                curr_digit != next_digit\n",
        "                and next_digit == next_next_digit\n",
        "            )):\n",
        "            has_adjacent = True\n",
        "\n",
        "        if (prev_digit != curr_digit\n",
        "            and curr_digit == next_digit\n",
        "            and next_digit != next_next_digit\n",
        "           ):\n",
        "            has_adjacent = True\n",
        "\n",
        "    return True if has_adjacent and has_increasing else False\n",
        "\n",
        "for password in ['112233', '123444', '111122']:\n",
        "    print(f'{password}: {is_valid_password(password)}')"
      ],
      "outputs": [
        {
          "output_type": "stream",
          "name": "stdout",
          "text": [
            "112233: True\n",
            "123444: False\n",
            "111122: True\n"
          ]
        }
      ],
      "execution_count": 3,
      "metadata": {
        "collapsed": false,
        "outputHidden": false,
        "inputHidden": false
      }
    },
    {
      "cell_type": "code",
      "source": [
        "# Brute force solution :-(\n",
        "matches = []\n",
        "for password in [str(i) for i in range(min, max + 1)]:\n",
        "    if is_valid_password(password):\n",
        "        matches.append(password)\n",
        "\n",
        "print(f'Solution: {len(matches)}')"
      ],
      "outputs": [
        {
          "output_type": "stream",
          "name": "stdout",
          "text": [
            "Solution: 1180\n"
          ]
        }
      ],
      "execution_count": 4,
      "metadata": {
        "collapsed": false,
        "outputHidden": false,
        "inputHidden": false
      }
    }
  ],
  "metadata": {
    "kernel_info": {
      "name": "advent-of-code"
    },
    "language_info": {
      "name": "python",
      "version": "3.8.0",
      "mimetype": "text/x-python",
      "codemirror_mode": {
        "name": "ipython",
        "version": 3
      },
      "pygments_lexer": "ipython3",
      "nbconvert_exporter": "python",
      "file_extension": ".py"
    },
    "kernelspec": {
      "name": "advent-of-code",
      "language": "python",
      "display_name": "advent-of-code"
    },
    "nteract": {
      "version": "0.15.0"
    }
  },
  "nbformat": 4,
  "nbformat_minor": 4
}