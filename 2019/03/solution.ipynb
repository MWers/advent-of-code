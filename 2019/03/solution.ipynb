{
  "cells": [
    {
      "cell_type": "markdown",
      "source": [
        "# Advent of Code 2019 - Day 3\n",
        "\n",
        "## Part 1"
      ],
      "metadata": {}
    },
    {
      "cell_type": "code",
      "source": [
        "def parse_instruction(instruction):\n",
        "    direction = instruction[0]\n",
        "\n",
        "    distance = (\n",
        "        int(instruction[1:]) * -1 if direction in ['L', 'D']\n",
        "        else int(instruction[1:])\n",
        "    )\n",
        "\n",
        "    return (\n",
        "        [distance, 0] if direction in ['L', 'R']\n",
        "        else [0, distance]\n",
        "    )\n",
        "\n",
        "\n",
        "def parse_input_line(in_str):\n",
        "    return [parse_instruction(segment) for segment in in_str.split(',')]\n",
        "\n",
        "\n",
        "def parse_input_file(filename):\n",
        "    with open(filename, 'r') as f:\n",
        "        return [parse_input_line(line) for line in f]\n",
        "\n",
        "\n",
        "def get_range_step(num):\n",
        "    if num >= 0:\n",
        "        return 1\n",
        "    else:\n",
        "        return -1\n",
        "\n",
        "\n",
        "def get_points(instructions):\n",
        "    points = []\n",
        "    curr_point = (0, 0)\n",
        "    points.append(curr_point)\n",
        "    for instruction in instructions:\n",
        "        x_delta = get_range_step(instruction[0])\n",
        "        for _ in range(0, instruction[0], x_delta):\n",
        "            curr_point = (curr_point[0] + x_delta, curr_point[1])\n",
        "            points.append(curr_point)\n",
        "\n",
        "        y_delta = get_range_step(instruction[1])\n",
        "        for _ in range(0, instruction[1], y_delta):\n",
        "            curr_point = (curr_point[0], curr_point[1] + y_delta)\n",
        "            points.append(curr_point)\n",
        "    return points\n",
        "\n",
        "\n",
        "puzzle_input = parse_input_file('input.txt')"
      ],
      "outputs": [],
      "execution_count": 1,
      "metadata": {
        "collapsed": false,
        "outputHidden": false,
        "inputHidden": false
      }
    },
    {
      "cell_type": "code",
      "source": [
        "points = []\n",
        "points.append(get_points(puzzle_input[0]))\n",
        "points.append(get_points(puzzle_input[1]))\n",
        "\n",
        "intersections = set(points[0]).intersection(set(points[1]))"
      ],
      "outputs": [],
      "execution_count": 2,
      "metadata": {
        "collapsed": false,
        "outputHidden": false,
        "inputHidden": false
      }
    },
    {
      "cell_type": "code",
      "source": [
        "distances = [(abs(i[0]) + abs(i[1])) for i in intersections]\n",
        "distances.sort()\n",
        "print(f'solution: {distances[1]}')"
      ],
      "outputs": [
        {
          "output_type": "stream",
          "name": "stdout",
          "text": [
            "solution: 1084\n"
          ]
        }
      ],
      "execution_count": 3,
      "metadata": {
        "collapsed": false,
        "outputHidden": false,
        "inputHidden": false
      }
    },
    {
      "cell_type": "markdown",
      "source": [
        "## Part 2"
      ],
      "metadata": {}
    },
    {
      "cell_type": "code",
      "source": [
        "distances = {}\n",
        "for intersection in intersections:\n",
        "    dist = points[0].index(intersection) + points[1].index(intersection)\n",
        "    distances[dist] = intersection\n",
        "\n",
        "nearest = sorted(distances.keys())[1]\n",
        "print(f'solution: {nearest}')"
      ],
      "outputs": [
        {
          "output_type": "stream",
          "name": "stdout",
          "text": [
            "solution: 9240\n"
          ]
        }
      ],
      "execution_count": 4,
      "metadata": {
        "collapsed": false,
        "outputHidden": false,
        "inputHidden": false
      }
    }
  ],
  "metadata": {
    "kernel_info": {
      "name": "advent-of-code"
    },
    "language_info": {
      "name": "python",
      "version": "3.8.0",
      "mimetype": "text/x-python",
      "codemirror_mode": {
        "name": "ipython",
        "version": 3
      },
      "pygments_lexer": "ipython3",
      "nbconvert_exporter": "python",
      "file_extension": ".py"
    },
    "kernelspec": {
      "name": "advent-of-code",
      "language": "python",
      "display_name": "advent-of-code"
    },
    "nteract": {
      "version": "0.15.0"
    }
  },
  "nbformat": 4,
  "nbformat_minor": 4
}