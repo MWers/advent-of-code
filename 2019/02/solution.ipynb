{
  "cells": [
    {
      "cell_type": "markdown",
      "source": [
        "# Advent of Code 2019 - Day 2\n",
        "\n",
        "## Part 1"
      ],
      "metadata": {}
    },
    {
      "cell_type": "code",
      "source": [
        "def process_program(program):\n",
        "    for idx in range(0, len(program), 4):\n",
        "        if program[idx] == 1:\n",
        "            # do add\n",
        "            (idx_1, idx_2, idx_3) = program[idx + 1:idx + 4]\n",
        "            program[idx_3] = program[idx_1] + program[idx_2]\n",
        "        elif program[idx] == 2:\n",
        "            # do multiply\n",
        "            (idx_1, idx_2, idx_3) = program[idx + 1:idx + 4]\n",
        "            program[idx_3] = program[idx_1] * program[idx_2]\n",
        "        elif program[idx] == 99:\n",
        "            # end program\n",
        "            return program\n",
        "\n",
        "def str_to_list(string):\n",
        "    return [int(i) for i in string.split(',')]\n",
        "\n",
        "print(process_program(str_to_list('1,0,0,0,99')))\n",
        "print(process_program(str_to_list('2,3,0,3,99')))\n",
        "print(process_program(str_to_list('2,4,4,5,99,0')))\n",
        "print(process_program(str_to_list('1,1,1,4,99,5,6,0,99')))\n",
        "print(process_program(str_to_list('1,9,10,3,2,3,11,0,99,30,40,50')))"
      ],
      "outputs": [
        {
          "output_type": "stream",
          "name": "stdout",
          "text": [
            "[2, 0, 0, 0, 99]\n",
            "[2, 3, 0, 6, 99]\n",
            "[2, 4, 4, 5, 99, 9801]\n",
            "[30, 1, 1, 4, 2, 5, 6, 0, 99]\n",
            "[3500, 9, 10, 70, 2, 3, 11, 0, 99, 30, 40, 50]\n"
          ]
        }
      ],
      "execution_count": 1,
      "metadata": {
        "collapsed": false,
        "outputHidden": false,
        "inputHidden": false
      }
    },
    {
      "cell_type": "code",
      "source": [
        "program = []\n",
        "with open('input.txt', 'r') as f:\n",
        "    for line in f:\n",
        "        program = [int(i) for i in line.split(',')]\n",
        "\n",
        "program[1] = 12\n",
        "program[2] = 2\n",
        "processed_program = process_program(program)\n",
        "\n",
        "print(f'Program: {processed_program}')\n",
        "print(f'Solution: {processed_program[0]}')"
      ],
      "outputs": [
        {
          "output_type": "stream",
          "name": "stdout",
          "text": [
            "Program: [3706713, 12, 2, 2, 1, 1, 2, 3, 1, 3, 4, 3, 1, 5, 0, 3, 2, 1, 10, 48, 1, 6, 19, 50, 1, 13, 23, 55, 1, 6, 27, 57, 1, 31, 10, 61, 1, 35, 6, 63, 1, 39, 13, 68, 2, 10, 43, 272, 1, 47, 6, 274, 2, 6, 51, 548, 1, 5, 55, 549, 2, 13, 59, 2745, 2, 63, 9, 8235, 1, 5, 67, 8236, 2, 13, 71, 41180, 1, 75, 5, 41181, 1, 10, 79, 41185, 2, 6, 83, 82370, 2, 13, 87, 411850, 1, 9, 91, 411853, 1, 9, 95, 411856, 2, 99, 9, 1235568, 1, 5, 103, 1235569, 2, 9, 107, 3706707, 1, 5, 111, 3706708, 1, 115, 2, 3706710, 1, 9, 119, 0, 99, 2, 0, 14, 0]\n",
            "Solution: 3706713\n"
          ]
        }
      ],
      "execution_count": 2,
      "metadata": {
        "collapsed": false,
        "outputHidden": false,
        "inputHidden": false
      }
    },
    {
      "cell_type": "markdown",
      "source": [
        "## Part 2"
      ],
      "metadata": {}
    },
    {
      "cell_type": "code",
      "source": [
        "program = []\n",
        "with open('input.txt', 'r') as f:\n",
        "    for line in f:\n",
        "        program = [int(i) for i in line.split(',')]"
      ],
      "outputs": [],
      "execution_count": 3,
      "metadata": {
        "collapsed": false,
        "outputHidden": false,
        "inputHidden": false
      }
    },
    {
      "cell_type": "code",
      "source": [
        "import copy\n",
        "target = 19690720\n",
        "\n",
        "for noun in range(0, 99):\n",
        "    for verb in range(0, 99):\n",
        "        curr_program = copy.deepcopy(program)\n",
        "        curr_program[1] = noun\n",
        "        curr_program[2] = verb\n",
        "        processed_program = process_program(curr_program)\n",
        "        if processed_program[0] == target:\n",
        "            print(f'noun: {noun}')\n",
        "            print(f'verb: {verb}')\n",
        "            print(f'solution: {100 * noun + verb}')"
      ],
      "outputs": [
        {
          "output_type": "stream",
          "name": "stdout",
          "text": [
            "noun: 86\n",
            "verb: 9\n",
            "solution: 8609\n"
          ]
        }
      ],
      "execution_count": 4,
      "metadata": {
        "collapsed": false,
        "outputHidden": false,
        "inputHidden": false
      }
    }
  ],
  "metadata": {
    "kernel_info": {
      "name": "advent-of-code"
    },
    "language_info": {
      "name": "python",
      "version": "3.8.0",
      "mimetype": "text/x-python",
      "codemirror_mode": {
        "name": "ipython",
        "version": 3
      },
      "pygments_lexer": "ipython3",
      "nbconvert_exporter": "python",
      "file_extension": ".py"
    },
    "kernelspec": {
      "name": "advent-of-code",
      "language": "python",
      "display_name": "advent-of-code"
    },
    "nteract": {
      "version": "0.15.0"
    }
  },
  "nbformat": 4,
  "nbformat_minor": 4
}