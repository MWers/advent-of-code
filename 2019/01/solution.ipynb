{
  "cells": [
    {
      "cell_type": "markdown",
      "source": [
        "# Advent of Code 2019 - Day 1\n",
        "\n",
        "## Part 1"
      ],
      "metadata": {}
    },
    {
      "cell_type": "code",
      "source": [
        "total_fuel = 0\n",
        "with open('input.txt', 'r') as f:\n",
        "    for mass in [int(i) for i in f]:\n",
        "        module_fuel = int(mass / 3) - 2\n",
        "        total_fuel = total_fuel + module_fuel\n",
        "        \n",
        "print(f'Part 1 fuel needed: {total_fuel}')"
      ],
      "outputs": [
        {
          "output_type": "stream",
          "name": "stdout",
          "text": [
            "Part 1 fuel needed: 3275518\n"
          ]
        }
      ],
      "execution_count": 1,
      "metadata": {
        "collapsed": false,
        "outputHidden": false,
        "inputHidden": false
      }
    },
    {
      "cell_type": "markdown",
      "source": [
        "## Part 2"
      ],
      "metadata": {}
    },
    {
      "cell_type": "code",
      "source": [
        "def get_fuel_reqs(mass):\n",
        "    fuel = int(mass / 3) - 2\n",
        "    \n",
        "    if fuel <= 0:\n",
        "        return 0\n",
        "    else:\n",
        "        return fuel + get_fuel_reqs(fuel)\n",
        " \n",
        "print(f'Test data: {get_fuel_reqs(1969)}')"
      ],
      "outputs": [
        {
          "output_type": "stream",
          "name": "stdout",
          "text": [
            "Test data: 966\n"
          ]
        }
      ],
      "execution_count": 2,
      "metadata": {
        "collapsed": false,
        "outputHidden": false,
        "inputHidden": false
      }
    },
    {
      "cell_type": "code",
      "source": [
        "total_fuel = 0\n",
        "with open('input.txt', 'r') as f:\n",
        "    for mass in [int(i) for i in f]:\n",
        "        total_fuel = total_fuel + get_fuel_reqs(mass)\n",
        "        \n",
        "print(f'Part 2 fuel needed: {total_fuel}')"
      ],
      "outputs": [
        {
          "output_type": "stream",
          "name": "stdout",
          "text": [
            "Part 2 fuel needed: 4910404\n"
          ]
        }
      ],
      "execution_count": 3,
      "metadata": {
        "collapsed": false,
        "outputHidden": false,
        "inputHidden": false
      }
    }
  ],
  "metadata": {
    "kernel_info": {
      "name": "advent-of-code"
    },
    "language_info": {
      "name": "python",
      "version": "3.8.0",
      "mimetype": "text/x-python",
      "codemirror_mode": {
        "name": "ipython",
        "version": 3
      },
      "pygments_lexer": "ipython3",
      "nbconvert_exporter": "python",
      "file_extension": ".py"
    },
    "kernelspec": {
      "name": "advent-of-code",
      "language": "python",
      "display_name": "advent-of-code"
    },
    "nteract": {
      "version": "0.15.0"
    }
  },
  "nbformat": 4,
  "nbformat_minor": 4
}